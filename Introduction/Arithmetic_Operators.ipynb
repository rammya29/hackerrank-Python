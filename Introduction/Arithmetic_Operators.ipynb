{
  "nbformat": 4,
  "nbformat_minor": 0,
  "metadata": {
    "colab": {
      "name": "Arithmetic Operators.ipynb",
      "provenance": [],
      "authorship_tag": "ABX9TyMks4LMMWANKVeoXDGe6oGq",
      "include_colab_link": true
    },
    "kernelspec": {
      "name": "python3",
      "display_name": "Python 3"
    },
    "language_info": {
      "name": "python"
    }
  },
  "cells": [
    {
      "cell_type": "markdown",
      "metadata": {
        "id": "view-in-github",
        "colab_type": "text"
      },
      "source": [
        "<a href=\"https://colab.research.google.com/github/rammya29/hackerrank-Python/blob/main/Introduction/Arithmetic_Operators.ipynb\" target=\"_parent\"><img src=\"https://colab.research.google.com/assets/colab-badge.svg\" alt=\"Open In Colab\"/></a>"
      ]
    },
    {
      "cell_type": "markdown",
      "metadata": {
        "id": "EbvKXSlauD0_"
      },
      "source": [
        "#Arithmetic Operators"
      ]
    },
    {
      "cell_type": "markdown",
      "metadata": {
        "id": "dwFw9FchuICa"
      },
      "source": [
        "**Task**\n",
        "\n",
        "The provided code stub reads two integers from STDIN, a and b. Add code to print three lines where:\n",
        "\n",
        "The first line contains the sum of the two numbers.\n",
        "\n",
        "The second line contains the difference of the two numbers (first - second).\n",
        "\n",
        "The third line contains the product of the two numbers.\n",
        "\n",
        "Example : \n",
        "`a=3` `b=5`"
      ]
    },
    {
      "cell_type": "markdown",
      "metadata": {
        "id": "dbZmW9KgvPIs"
      },
      "source": [
        "##Input Format"
      ]
    },
    {
      "cell_type": "markdown",
      "metadata": {
        "id": "o_CqjGK1vQiU"
      },
      "source": [
        "The first line contains the first integer, **a**.\n",
        "\n",
        "The second line contains the second integer, **b**."
      ]
    },
    {
      "cell_type": "markdown",
      "metadata": {
        "id": "FfGasvMTvcDS"
      },
      "source": [
        "##Output Format"
      ]
    },
    {
      "cell_type": "markdown",
      "metadata": {
        "id": "xnfTYhvcvWMz"
      },
      "source": [
        "\n",
        "\n",
        "Print the three lines as explained above.\n",
        "\n",
        "**Sample Input 0**\n",
        "\n",
        "3\n",
        "\n",
        "2\n",
        "\n",
        "**Sample Output 0**\n",
        "\n",
        "5\n",
        "\n",
        "1\n",
        "\n",
        "6"
      ]
    },
    {
      "cell_type": "code",
      "metadata": {
        "colab": {
          "base_uri": "https://localhost:8080/"
        },
        "id": "CUp2ez6Stv6w",
        "outputId": "1a378124-d66a-497d-be47-f01afafcf007"
      },
      "source": [
        "if __name__ == '__main__':\n",
        "    a = int(input())\n",
        "    b = int(input())\n",
        "    print(a+b)\n",
        "    print(a-b)\n",
        "    print(a*b)"
      ],
      "execution_count": null,
      "outputs": [
        {
          "output_type": "stream",
          "text": [
            "5\n",
            "9\n",
            "14\n",
            "-4\n",
            "45\n"
          ],
          "name": "stdout"
        }
      ]
    }
  ]
}