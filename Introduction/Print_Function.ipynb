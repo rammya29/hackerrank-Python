{
  "nbformat": 4,
  "nbformat_minor": 0,
  "metadata": {
    "colab": {
      "name": "Print Function.ipynb",
      "provenance": [],
      "authorship_tag": "ABX9TyNMr6AMKYOvmiF/ciul8U9Q",
      "include_colab_link": true
    },
    "kernelspec": {
      "name": "python3",
      "display_name": "Python 3"
    },
    "language_info": {
      "name": "python"
    }
  },
  "cells": [
    {
      "cell_type": "markdown",
      "metadata": {
        "id": "view-in-github",
        "colab_type": "text"
      },
      "source": [
        "<a href=\"https://colab.research.google.com/github/rammya29/hackerrank-Python/blob/main/Introduction/Print_Function.ipynb\" target=\"_parent\"><img src=\"https://colab.research.google.com/assets/colab-badge.svg\" alt=\"Open In Colab\"/></a>"
      ]
    },
    {
      "cell_type": "markdown",
      "metadata": {
        "id": "PhNIP28m35eX"
      },
      "source": [
        "#Print Function"
      ]
    },
    {
      "cell_type": "markdown",
      "metadata": {
        "id": "iocsaBzS37Pe"
      },
      "source": [
        "##Task"
      ]
    },
    {
      "cell_type": "markdown",
      "metadata": {
        "id": "U3sWQcxB4G_K"
      },
      "source": [
        "The included code stub will read an integer, n, from STDIN.\n",
        "\n",
        "Without using any string methods, try to print the following:\n",
        "\n",
        "123...n\n",
        "\n",
        "\n",
        "Note that \"...\" represents the consecutive values in between.\n",
        "\n",
        "Example\n",
        "\n",
        "n = 5\n",
        "\n",
        "Print the string .\n",
        "\n",
        "12345"
      ]
    },
    {
      "cell_type": "markdown",
      "metadata": {
        "id": "NV7PUfEs39G6"
      },
      "source": [
        "##Input Format"
      ]
    },
    {
      "cell_type": "markdown",
      "metadata": {
        "id": "nSWZTeEJ4XDd"
      },
      "source": [
        "The first line contains an integer n."
      ]
    },
    {
      "cell_type": "markdown",
      "metadata": {
        "id": "UyUQGWO44ADF"
      },
      "source": [
        "##Output Format"
      ]
    },
    {
      "cell_type": "markdown",
      "metadata": {
        "id": "zLKjiqLx4blj"
      },
      "source": [
        "Print the list of integers from  through  as a string, without spaces.\n",
        "\n",
        "**Sample Input 0**\n",
        "\n",
        "3\n",
        "\n",
        "**Sample Output 0**\n",
        "\n",
        "123"
      ]
    },
    {
      "cell_type": "code",
      "metadata": {
        "colab": {
          "base_uri": "https://localhost:8080/"
        },
        "id": "VyNDiP2s3rDs",
        "outputId": "df96f174-df60-4e5b-e02b-f331cc719194"
      },
      "source": [
        "if __name__ == '__main__':\n",
        "    n = int(input())\n",
        "    print(\"\".join([str(i) for i in range(1,n+1)]))"
      ],
      "execution_count": 1,
      "outputs": [
        {
          "output_type": "stream",
          "text": [
            "8\n",
            "12345678\n"
          ],
          "name": "stdout"
        }
      ]
    }
  ]
}