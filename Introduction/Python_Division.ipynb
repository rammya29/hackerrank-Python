{
  "nbformat": 4,
  "nbformat_minor": 0,
  "metadata": {
    "colab": {
      "name": "Python: Division.ipynb",
      "provenance": [],
      "authorship_tag": "ABX9TyMeZHfFxIWfClVTRHPRHKyx",
      "include_colab_link": true
    },
    "kernelspec": {
      "name": "python3",
      "display_name": "Python 3"
    },
    "language_info": {
      "name": "python"
    }
  },
  "cells": [
    {
      "cell_type": "markdown",
      "metadata": {
        "id": "view-in-github",
        "colab_type": "text"
      },
      "source": [
        "<a href=\"https://colab.research.google.com/github/rammya29/hackerrank-Python/blob/main/Introduction/Python_Division.ipynb\" target=\"_parent\"><img src=\"https://colab.research.google.com/assets/colab-badge.svg\" alt=\"Open In Colab\"/></a>"
      ]
    },
    {
      "cell_type": "markdown",
      "metadata": {
        "id": "PGujsD3Ov92D"
      },
      "source": [
        "#Python: Division"
      ]
    },
    {
      "cell_type": "markdown",
      "metadata": {
        "id": "BlvV6gOSv_9y"
      },
      "source": [
        "##Task"
      ]
    },
    {
      "cell_type": "markdown",
      "metadata": {
        "id": "pPjMNDyQwI06"
      },
      "source": [
        "bThe provided code stub reads two integers, a and , from STDIN.\n",
        "\n",
        "Add logic to print two lines. \n",
        "\n",
        "The first line should contain the result of integer division, `a//b` . \n",
        "\n",
        "The second line should contain the result of float division,  `a/b` .\n",
        "\n",
        "No rounding or formatting is necessary"
      ]
    },
    {
      "cell_type": "markdown",
      "metadata": {
        "id": "7DxL30QRwEaa"
      },
      "source": [
        "##Input Format"
      ]
    },
    {
      "cell_type": "markdown",
      "metadata": {
        "id": "1QFjgZg7wYde"
      },
      "source": [
        "The first line contains the first integer, a.\n",
        "\n",
        "The second line contains the second integer, b."
      ]
    },
    {
      "cell_type": "markdown",
      "metadata": {
        "id": "mlFnrNMBwGdp"
      },
      "source": [
        "##Output Format"
      ]
    },
    {
      "cell_type": "markdown",
      "metadata": {
        "id": "B-SWDj62wavx"
      },
      "source": [
        "Print the two lines as described above.\n",
        "\n",
        "**Sample Input 0**\n",
        "\n",
        "4\n",
        "\n",
        "3\n",
        "\n",
        "**Sample Output 0**\n",
        "\n",
        "1\n",
        "\n",
        "1.33333333333"
      ]
    },
    {
      "cell_type": "code",
      "metadata": {
        "colab": {
          "base_uri": "https://localhost:8080/"
        },
        "id": "LifLHCjkvsUY",
        "outputId": "f84f6604-baff-4f0a-fcbe-086bd57f4082"
      },
      "source": [
        "if __name__ == '__main__':\n",
        "    a = int(input())\n",
        "    b = int(input())\n",
        "    print(a//b)\n",
        "    print(a/b)"
      ],
      "execution_count": 1,
      "outputs": [
        {
          "output_type": "stream",
          "text": [
            "5\n",
            "11\n",
            "0\n",
            "0.45454545454545453\n"
          ],
          "name": "stdout"
        }
      ]
    }
  ]
}