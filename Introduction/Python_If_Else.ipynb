{
  "nbformat": 4,
  "nbformat_minor": 0,
  "metadata": {
    "colab": {
      "name": "Python If-Else.ipynb",
      "provenance": [],
      "authorship_tag": "ABX9TyOxGZDMFkHwFkDNq07ht5Zd",
      "include_colab_link": true
    },
    "kernelspec": {
      "name": "python3",
      "display_name": "Python 3"
    },
    "language_info": {
      "name": "python"
    }
  },
  "cells": [
    {
      "cell_type": "markdown",
      "metadata": {
        "id": "view-in-github",
        "colab_type": "text"
      },
      "source": [
        "<a href=\"https://colab.research.google.com/github/rammya29/hackerrank-Python/blob/main/Introduction/Python_If_Else.ipynb\" target=\"_parent\"><img src=\"https://colab.research.google.com/assets/colab-badge.svg\" alt=\"Open In Colab\"/></a>"
      ]
    },
    {
      "cell_type": "markdown",
      "metadata": {
        "id": "bttLdFG5scZ8"
      },
      "source": [
        "#Python If-Else"
      ]
    },
    {
      "cell_type": "markdown",
      "metadata": {
        "id": "8Ppp5nnvshJt"
      },
      "source": [
        "**Task**\n",
        "\n",
        "Given an integer, , perform the following conditional actions:\n",
        "\n",
        "If n is odd, print Weird\n",
        "\n",
        "If n is even and in the inclusive range of 2 to 5, print Not Weird\n",
        "\n",
        "If n is even and in the inclusive range of 6 to 20, print Weird\n",
        "\n",
        "If n is even and greater than 20, print Not Weird"
      ]
    },
    {
      "cell_type": "markdown",
      "metadata": {
        "id": "kXIUDCy6s3uQ"
      },
      "source": [
        "##Input Format"
      ]
    },
    {
      "cell_type": "markdown",
      "metadata": {
        "id": "mI68e55Zs6eQ"
      },
      "source": [
        "A single line containing a positive integer, `n`."
      ]
    },
    {
      "cell_type": "markdown",
      "metadata": {
        "id": "_UPikgGHs-DH"
      },
      "source": [
        "##Constraints"
      ]
    },
    {
      "cell_type": "markdown",
      "metadata": {
        "id": "DsQZAjxYtDkJ"
      },
      "source": [
        "1 <= n <= 100"
      ]
    },
    {
      "cell_type": "markdown",
      "metadata": {
        "id": "uyJAoBWHtJK4"
      },
      "source": [
        "##Output Format"
      ]
    },
    {
      "cell_type": "markdown",
      "metadata": {
        "id": "WtBuyk14tMPF"
      },
      "source": [
        "Print Weird if the number is weird. Otherwise, print Not Weird."
      ]
    },
    {
      "cell_type": "code",
      "metadata": {
        "colab": {
          "base_uri": "https://localhost:8080/"
        },
        "id": "B8FiUrxxqDOl",
        "outputId": "4476f889-8191-480e-b936-7bcb0e03558f"
      },
      "source": [
        "import math\n",
        "import os\n",
        "import random\n",
        "import re\n",
        "import sys\n",
        "\n",
        "\n",
        "\n",
        "if __name__ == '__main__':\n",
        "    n = int(input().strip())\n",
        "    if (n%2!=0):\n",
        "      print(\"Weird\")\n",
        "    elif (n<=5):\n",
        "      print(\"Not Weird\")\n",
        "    elif (n<=20):\n",
        "      print(\"Weird\")\n",
        "    else:\n",
        "      print(\"Not Weird\")"
      ],
      "execution_count": null,
      "outputs": [
        {
          "output_type": "stream",
          "text": [
            "16\n",
            "Weird\n"
          ],
          "name": "stdout"
        }
      ]
    }
  ]
}