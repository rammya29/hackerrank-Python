{
  "nbformat": 4,
  "nbformat_minor": 0,
  "metadata": {
    "colab": {
      "name": "Say \"Hello, World!\" With Python.ipynb",
      "provenance": [],
      "authorship_tag": "ABX9TyMdBCDO+APwq2Y1tsaobw8G",
      "include_colab_link": true
    },
    "kernelspec": {
      "name": "python3",
      "display_name": "Python 3"
    },
    "language_info": {
      "name": "python"
    }
  },
  "cells": [
    {
      "cell_type": "markdown",
      "metadata": {
        "id": "view-in-github",
        "colab_type": "text"
      },
      "source": [
        "<a href=\"https://colab.research.google.com/github/rammya29/hackerrank-Python/blob/main/Introduction/Say_%22Hello%2C_World!%22_With_Python.ipynb\" target=\"_parent\"><img src=\"https://colab.research.google.com/assets/colab-badge.svg\" alt=\"Open In Colab\"/></a>"
      ]
    },
    {
      "cell_type": "markdown",
      "metadata": {
        "id": "4YG-dmpYopYa"
      },
      "source": [
        "#Say \"Hello, World!\" With Python\n"
      ]
    },
    {
      "cell_type": "markdown",
      "metadata": {
        "id": "BppgU6CUodNV"
      },
      "source": [
        "Here is a sample line of code that can be executed in Python:\n",
        "\n",
        "`print(\"Hello, World!\")`\n",
        "\n",
        "You can just as easily store a string as a variable and then print it to stdout:\n",
        "```\n",
        "my_string = \"Hello, World!\"\n",
        "print(my_string)\n",
        "```\n",
        "The above code will print Hello, World! on your screen. Try it yourself in the editor below!\n",
        "\n"
      ]
    },
    {
      "cell_type": "markdown",
      "metadata": {
        "id": "wVekxk7joPEc"
      },
      "source": [
        "##Input Format"
      ]
    },
    {
      "cell_type": "markdown",
      "metadata": {
        "id": "2SubQMIDoVTl"
      },
      "source": [
        "You do not need to read any input in this challenge."
      ]
    },
    {
      "cell_type": "markdown",
      "metadata": {
        "id": "PRZrd-2XoXs-"
      },
      "source": [
        "##Output Format"
      ]
    },
    {
      "cell_type": "markdown",
      "metadata": {
        "id": "k-LJEWyloaW3"
      },
      "source": [
        "Print Hello, World! to stdout."
      ]
    },
    {
      "cell_type": "code",
      "metadata": {
        "colab": {
          "base_uri": "https://localhost:8080/"
        },
        "id": "D7tjuOVgnmSV",
        "outputId": "81e10f7e-de40-4373-b77c-e235d14be363"
      },
      "source": [
        "print(\"Hello, World!\")"
      ],
      "execution_count": 1,
      "outputs": [
        {
          "output_type": "stream",
          "text": [
            "Hello, World!\n"
          ],
          "name": "stdout"
        }
      ]
    }
  ]
}