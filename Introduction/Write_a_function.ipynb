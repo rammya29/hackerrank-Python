{
  "nbformat": 4,
  "nbformat_minor": 0,
  "metadata": {
    "colab": {
      "name": "Write a function.ipynb",
      "provenance": [],
      "authorship_tag": "ABX9TyMCAZSf8NMR5v8MoSKkPzgs",
      "include_colab_link": true
    },
    "kernelspec": {
      "name": "python3",
      "display_name": "Python 3"
    },
    "language_info": {
      "name": "python"
    }
  },
  "cells": [
    {
      "cell_type": "markdown",
      "metadata": {
        "id": "view-in-github",
        "colab_type": "text"
      },
      "source": [
        "<a href=\"https://colab.research.google.com/github/rammya29/hackerrank-Python/blob/main/Introduction/Write_a_function.ipynb\" target=\"_parent\"><img src=\"https://colab.research.google.com/assets/colab-badge.svg\" alt=\"Open In Colab\"/></a>"
      ]
    },
    {
      "cell_type": "markdown",
      "metadata": {
        "id": "OLIhdKOQzMzr"
      },
      "source": [
        "#Write a function"
      ]
    },
    {
      "cell_type": "markdown",
      "metadata": {
        "id": "P1J4DZ98zbj9"
      },
      "source": [
        "An extra day is added to the calendar almost every four years as February 29, and the day is called a leap day. It corrects the calendar for the fact that our planet takes approximately 365.25 days to orbit the sun. A leap year contains a leap day.\n",
        "\n",
        "\n",
        "In the Gregorian calendar, three conditions are used to identify leap years:\n",
        "\n",
        "The year can be evenly divided by 4, is a leap year, unless:\n",
        "\n",
        "The year can be evenly divided by 100, it is NOT a leap year, unless:\n",
        "\n",
        "The year is also evenly divisible by 400. Then it is a leap year.\n",
        "\n",
        "\n",
        "This means that in the Gregorian calendar, the years 2000 and 2400 are leap years, while 1800, 1900, 2100, 2200, 2300 and 2500 are NOT leap years. Source"
      ]
    },
    {
      "cell_type": "markdown",
      "metadata": {
        "id": "8WRjENGMzQHZ"
      },
      "source": [
        "##Task"
      ]
    },
    {
      "cell_type": "markdown",
      "metadata": {
        "id": "wnY6SIrszjs2"
      },
      "source": [
        "Given a year, determine whether it is a leap year. If it is a leap year, return the Boolean True, otherwise return False.\n",
        "\n",
        "Note that the code stub provided reads from STDIN and passes arguments to the is_leap function. It is only necessary to complete the is_leap function."
      ]
    },
    {
      "cell_type": "markdown",
      "metadata": {
        "id": "8enpY91SzSpI"
      },
      "source": [
        "##Input Format"
      ]
    },
    {
      "cell_type": "markdown",
      "metadata": {
        "id": "KliZ5U_EzqSN"
      },
      "source": [
        "Read ,`year` the year to test."
      ]
    },
    {
      "cell_type": "markdown",
      "metadata": {
        "id": "sFn24Ws1zVY1"
      },
      "source": [
        "##Output Format"
      ]
    },
    {
      "cell_type": "markdown",
      "metadata": {
        "id": "2SHLLUBIztjq"
      },
      "source": [
        "The function must return a Boolean value (True/False). Output is handled by the provided code stub.\n",
        "\n",
        "**Sample Input 0**\n",
        "\n",
        "1990\n",
        "\n",
        "**Sample Output 0**\n",
        "\n",
        "False"
      ]
    },
    {
      "cell_type": "markdown",
      "metadata": {
        "id": "3Dj9wFnZz0Kc"
      },
      "source": [
        "**Explanation 0**\n",
        "\n",
        "1990 is not a multiple of 4 hence it's not a leap year."
      ]
    },
    {
      "cell_type": "code",
      "metadata": {
        "colab": {
          "base_uri": "https://localhost:8080/"
        },
        "id": "4AapYISozKLv",
        "outputId": "56dc33b5-78f6-4d62-c99d-64624478ef47"
      },
      "source": [
        "def is_leap(year):\n",
        "    leap = False    \n",
        "    leap = (year%400==0) or (year%4==0 and year%100!=0)    \n",
        "    return leap\n",
        "\n",
        "year = int(input())\n",
        "print(is_leap(year))"
      ],
      "execution_count": 2,
      "outputs": [
        {
          "output_type": "stream",
          "text": [
            "2100\n",
            "False\n"
          ],
          "name": "stdout"
        }
      ]
    }
  ]
}