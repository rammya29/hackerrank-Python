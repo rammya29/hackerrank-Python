{
  "nbformat": 4,
  "nbformat_minor": 0,
  "metadata": {
    "colab": {
      "name": "Loops.ipynb",
      "provenance": [],
      "authorship_tag": "ABX9TyNrd/GAhX0r9kkFBwJvSRsN",
      "include_colab_link": true
    },
    "kernelspec": {
      "name": "python3",
      "display_name": "Python 3"
    },
    "language_info": {
      "name": "python"
    }
  },
  "cells": [
    {
      "cell_type": "markdown",
      "metadata": {
        "id": "view-in-github",
        "colab_type": "text"
      },
      "source": [
        "<a href=\"https://colab.research.google.com/github/rammya29/hackerrank-Python/blob/main/Introducttion/Loops.ipynb\" target=\"_parent\"><img src=\"https://colab.research.google.com/assets/colab-badge.svg\" alt=\"Open In Colab\"/></a>"
      ]
    },
    {
      "cell_type": "markdown",
      "metadata": {
        "id": "PPRBiTj5xiON"
      },
      "source": [
        "##Loops"
      ]
    },
    {
      "cell_type": "markdown",
      "metadata": {
        "id": "7ewsIGO9xkHX"
      },
      "source": [
        "##Task"
      ]
    },
    {
      "cell_type": "markdown",
      "metadata": {
        "id": "bH6WnnEIxrd1"
      },
      "source": [
        "The provided code stub reads and integer,n , from STDIN. For all non-negative integers `i < n` , print i^2.\n",
        "\n",
        "Example\n",
        "\n",
        "The list of non-negative integers that are less than `n = 3` is `[0 1 2]` . Print the square of each number on a separate line."
      ]
    },
    {
      "cell_type": "markdown",
      "metadata": {
        "id": "1S2xuiSYxlgV"
      },
      "source": [
        "##Input Format"
      ]
    },
    {
      "cell_type": "markdown",
      "metadata": {
        "id": "A8NJ74IDyDch"
      },
      "source": [
        "The first and only line contains the integer, **n** ."
      ]
    },
    {
      "cell_type": "markdown",
      "metadata": {
        "id": "5lwGDCvexnzp"
      },
      "source": [
        "##Output Format"
      ]
    },
    {
      "cell_type": "markdown",
      "metadata": {
        "id": "x57El0VqyI5T"
      },
      "source": [
        "Print  lines, one corresponding to each .\n",
        "\n",
        "**Sample Input 0**\n",
        "\n",
        "5\n",
        "\n",
        "**Sample Output 0**\n",
        "\n",
        "0\n",
        "\n",
        "1\n",
        "\n",
        "4\n",
        "\n",
        "9\n",
        "\n",
        "16\n"
      ]
    },
    {
      "cell_type": "code",
      "metadata": {
        "colab": {
          "base_uri": "https://localhost:8080/"
        },
        "id": "G3ZuV_csxgN6",
        "outputId": "6d4840d5-78b9-42cb-c0fa-c27f2e36d138"
      },
      "source": [
        "if __name__ == '__main__':\n",
        "    n = int(input())\n",
        "    for i in range(n):\n",
        "      print(i*i)\n",
        "    "
      ],
      "execution_count": 1,
      "outputs": [
        {
          "output_type": "stream",
          "text": [
            "5\n",
            "0\n",
            "1\n",
            "4\n",
            "9\n",
            "16\n"
          ],
          "name": "stdout"
        }
      ]
    }
  ]
}